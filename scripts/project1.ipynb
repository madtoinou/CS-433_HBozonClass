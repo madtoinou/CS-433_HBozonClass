{
 "cells": [
  {
   "cell_type": "code",
   "execution_count": 266,
   "metadata": {},
   "outputs": [
    {
     "name": "stdout",
     "output_type": "stream",
     "text": [
      "The autoreload extension is already loaded. To reload it, use:\n",
      "  %reload_ext autoreload\n"
     ]
    }
   ],
   "source": [
    "# Useful starting lines\n",
    "%matplotlib inline\n",
    "import numpy as np\n",
    "import matplotlib.pyplot as plt\n",
    "from implementations import *\n",
    "%load_ext autoreload\n",
    "%autoreload 2"
   ]
  },
  {
   "cell_type": "markdown",
   "metadata": {},
   "source": [
    "## Load the training data into feature matrix, class labels, and event ids:"
   ]
  },
  {
   "cell_type": "code",
   "execution_count": 300,
   "metadata": {},
   "outputs": [],
   "source": [
    "from proj1_helpers import *\n",
    "DATA_TRAIN_PATH = '/home/toinou/course/ml/ml_proj1/data/train.csv' \n",
    "y, tX, ids = load_csv_data(DATA_TRAIN_PATH)\n",
    "\n",
    "cols = ['DER_mass_MMC', 'DER_mass_transverse_met_lep',\n",
    "       'DER_mass_vis', 'DER_pt_h', 'DER_deltaeta_jet_jet',\n",
    "       'DER_mass_jet_jet', 'DER_prodeta_jet_jet', 'DER_deltar_tau_lep',\n",
    "       'DER_pt_tot', 'DER_sum_pt', 'DER_pt_ratio_lep_tau',\n",
    "       'DER_met_phi_centrality', 'DER_lep_eta_centrality',\n",
    "       'PRI_tau_pt', 'PRI_tau_eta', 'PRI_tau_phi', 'PRI_lep_pt',\n",
    "       'PRI_lep_eta', 'PRI_lep_phi', 'PRI_met', 'PRI_met_phi',\n",
    "       'PRI_met_sumet', 'PRI_jet_num', 'PRI_jet_leading_pt',\n",
    "       'PRI_jet_leading_eta', 'PRI_jet_leading_phi',\n",
    "       'PRI_jet_subleading_pt', 'PRI_jet_subleading_eta',\n",
    "       'PRI_jet_subleading_phi', 'PRI_jet_all_pt']\n"
   ]
  },
  {
   "cell_type": "code",
   "execution_count": 239,
   "metadata": {},
   "outputs": [],
   "source": [
    "## Preprocessing\n",
    "\n",
    "def one_hot_jet_num(tX, idx=-1):\n",
    " \n",
    "    #extract the jet_num column\n",
    "    one_hot = tX[:,idx].astype(int)\n",
    "    jet_num = np.zeros((tX.shape[0], 4))\n",
    "    \n",
    "    #create one column for each possible valur of jet_num\n",
    "    jet_num[np.where(one_hot == 0),0] = 1\n",
    "    jet_num[np.where(one_hot == 1),1] = 1\n",
    "    jet_num[np.where(one_hot == 2),2] = 1\n",
    "    jet_num[np.where(one_hot == 3),3] = 1\n",
    "\n",
    "    #create empty array to contain the  new values \n",
    "    tX_hot = np.empty((tX.shape[0], 30+3))\n",
    "    \n",
    "    #fill the new array without jet_num\n",
    "    tX_hot[:,:-4] = tX[:,:-1]\n",
    "\n",
    "    #add the 4 news columns\n",
    "    tX_hot[:,[-4,-3,-2,-1]] = jet_num\n",
    "    return tX_hot\n",
    "\n",
    "\"\"\" -- Data cleaning -- \"\"\"\n",
    "\n",
    "def cross_validation_ridge(y, x, k_indices, k, lambda_):\n",
    "    \n",
    "    x_test = x[k_indices[k]]\n",
    "    y_test = y[k_indices[k]]\n",
    "    x_train = x[np.concatenate(([x_train for i,x_train in enumerate(k_indices) if i!=k]), axis=0)]\n",
    "    y_train = y[np.concatenate(([y_train for i,y_train in enumerate(k_indices) if i!=k]), axis=0)]\n",
    "    \n",
    "    mse, w = ridge_regression(y_train, x_train, lambda_)\n",
    "    \n",
    "    loss_tr = np.sqrt(2*compute_mse(y_train,x_train,w))\n",
    "    loss_te = np.sqrt(2*compute_mse(y_test ,x_test ,w))\n",
    "    \n",
    "    return loss_tr, loss_te, w\n",
    "\n",
    "def cross_validation_logreg(y, x, k_indices, k, gamma, steps):\n",
    "    \n",
    "    x_test = x[k_indices[k]]\n",
    "    y_test = y[k_indices[k]]\n",
    "    x_train = x[np.concatenate(([x_train for i,x_train in enumerate(k_indices) if i!=k]), axis=0)]\n",
    "    y_train = y[np.concatenate(([y_train for i,y_train in enumerate(k_indices) if i!=k]), axis=0)]\n",
    "    \n",
    "    #starting with random weights\n",
    "    w = np.random.rand(x_train.shape[1],)\n",
    "    for step in range(steps):\n",
    "        loss, w = learning_by_gradient_descent(y_train, x_train, w, gamma)\n",
    "        \n",
    "    loss_tr = compute_mse(y_train,x_train,w)\n",
    "    loss_te = compute_mse(y_test ,x_test ,w)\n",
    "    \n",
    "    return loss_tr, loss_te, w"
   ]
  },
  {
   "cell_type": "code",
   "execution_count": 201,
   "metadata": {},
   "outputs": [
    {
     "name": "stdout",
     "output_type": "stream",
     "text": [
      "[nan nan  1.]\n",
      "[nan nan  1.]\n",
      "[nan nan  1.]\n"
     ]
    }
   ],
   "source": [
    "from implementations import *\n",
    "\n",
    "#move jet_num to the last position\n",
    "tX.T[[22,-1]] = tX.T[[-1,22]]\n",
    "tX[tX == -999] = np.nan\n",
    "print(tX[1,-3:])\n",
    "\n",
    "tX = cols_log_transform(tX)\n",
    "print(tX[1,-3:])\n",
    "deg = 7\n",
    "\n",
    "tX_ = np.zeros([tX.shape[0], (tX.shape[1]-1)*deg +2])\n",
    "tX_[:,:-1] = build_poly(tX[:,:-1],deg)\n",
    "tX_[:,-1] = tX[:,-1]\n",
    "\n",
    "tX_[:,1:-1] = normalize_data_std(tX_[:,1:-1])\n",
    "\n",
    "tX_md = np.ndarray.copy(tX_)\n",
    "tX_me = np.ndarray.copy(tX_)\n",
    "tX_ze = np.ndarray.copy(tX_)\n",
    "\n",
    "print(tX_md[1,-3:])\n",
    "print(tX_me[1,-3:])\n",
    "print(tX_ze[1,-3:])\n",
    "\n",
    "tX_md = nan_to_medi(tX_md)\n",
    "tX_me = nan_to_mean(tX_me)\n",
    "tX_ze = nan_to_zero(tX_ze)\n",
    "\n",
    "print(tX_md[1,-3:])\n",
    "print(tX_me[1,-3:])\n",
    "print(tX_ze[1,-3:])"
   ]
  },
  {
   "cell_type": "code",
   "execution_count": null,
   "metadata": {},
   "outputs": [],
   "source": [
    "#à faire run avec degree 7 pour trouver le gamma range à \n",
    "#eventuellement affiner plus tard\n",
    "\n",
    "seed = 12864126\n",
    "k_fold = 4\n",
    "gammas = np.logspace(-10,-7,6)\n",
    "steps=3000\n",
    "\n",
    "# split data in k fold\n",
    "k_indices = build_k_indices(y, k_fold, seed)\n",
    "# define lists to store the loss of training data and test data\n",
    "rmse_tr_md = []\n",
    "rmse_te_md = []\n",
    "rmse_tr_ma = []\n",
    "rmse_te_ma = []\n",
    "rmse_tr_ze = []\n",
    "rmse_te_ze = []\n",
    "\n",
    "ws_md = []\n",
    "ws_ma = []\n",
    "ws_ze = []\n",
    "\n",
    "#for lambda_ in lambdas:\n",
    "for gamma in gammas:\n",
    "    rmse_tr_tmp_md = []\n",
    "    rmse_te_tmp_md = []\n",
    "    rmse_tr_tmp_ma = []\n",
    "    rmse_te_tmp_ma = []\n",
    "    rmse_tr_tmp_ze = []\n",
    "    rmse_te_tmp_ze = []\n",
    "    for k in range(k_fold):\n",
    "        loss_tr_md, loss_te_md, w_md = cross_validation_logreg(y, tX_md, k_indices, k, gamma, steps)\n",
    "        loss_tr_ma, loss_te_ma, w_ma = cross_validation_logreg(y, tX_me, k_indices, k, gamma, steps)\n",
    "        loss_tr_ze, loss_te_ze, w_ze = cross_validation_logreg(y, tX_ze, k_indices, k, gamma, steps)\n",
    "\n",
    "        rmse_tr_tmp_md.append(loss_tr_md)\n",
    "        rmse_te_tmp_md.append(loss_te_md)\n",
    "        rmse_tr_tmp_ma.append(loss_tr_ma)\n",
    "        rmse_te_tmp_ma.append(loss_te_ma)\n",
    "        rmse_tr_tmp_ze.append(loss_tr_ze)\n",
    "        rmse_te_tmp_ze.append(loss_te_ze)\n",
    "    ws_md.append(w_md)\n",
    "    ws_ma.append(w_ma)\n",
    "    ws_ze.append(w_ze)\n",
    "    #combine the loss over the folds\n",
    "    rmse_tr_md.append(np.mean(rmse_tr_tmp_md))\n",
    "    rmse_te_md.append(np.mean(rmse_te_tmp_md))\n",
    "    rmse_tr_ma.append(np.mean(rmse_tr_tmp_ma))\n",
    "    rmse_te_ma.append(np.mean(rmse_te_tmp_ma))\n",
    "    rmse_tr_ze.append(np.mean(rmse_tr_tmp_ze))\n",
    "    rmse_te_ze.append(np.mean(rmse_te_tmp_ze))"
   ]
  },
  {
   "cell_type": "code",
   "execution_count": null,
   "metadata": {},
   "outputs": [],
   "source": [
    "f = plt.figure(figsize=(14,14)) # change this if needed\n",
    "\n",
    "#degree 1\n",
    "ax1 = f.add_subplot(311)\n",
    "ax1.semilogx(gammas, rmse_te_md, ls=\"--\" , marker=\"*\", label=\"md\")\n",
    "ax1.semilogx(gammas, rmse_te_ma, ls=\"-\" , marker=\"*\", label=\"ma\")\n",
    "ax1.semilogx(gammas, rmse_te_ze, ls=\"--\" , marker=\"*\", label=\"ze\")\n",
    "\n",
    "plt.xlabel(\"gamma\")\n",
    "plt.ylabel(\"error\")\n",
    "plt.yscale(\"log\")\n",
    "plt.legend()\n",
    "plt.show()"
   ]
  },
  {
   "cell_type": "code",
   "execution_count": null,
   "metadata": {},
   "outputs": [],
   "source": [
    "# --- PREPROCESSING FOR HYPERPARAMETER OPTIMIZATION ---\n",
    "#putting jet_num in the last column\n",
    "tX.T[[22,-1]] = tX.T[[-1,22]]\n",
    "tX[tX == -999] = np.nan\n",
    "\n",
    "#split data based on jet_num\n",
    "\"\"\"WARNING tX must be unprocessed data so that the processing can\n",
    "be jet_num specific WARNING\"\"\" \n",
    "#remove the jet_num column -> change the shape of the training set\n",
    "pred_0, pred_1, pred_2, dat_0, dat_1, dat_2, inds_0, inds_1, inds_2 = split_jet_num(y,tX)\n",
    "\n",
    "##prepocessing\n",
    "dat_0 = cols_log_transform(dat_0)\n",
    "dat_1 = cols_log_transform(dat_1)\n",
    "dat_2 = cols_log_transform(dat_2)\n",
    "\n",
    "deg_0 = 3\n",
    "deg_1 = 4\n",
    "deg_2 = 6\n",
    "\n",
    "\"\"\"we don't have the same shape because of jet_num removal\n",
    "instead of (shape-1)*deg + 2 -> shape*deg +1\"\"\"\n",
    "dat_0_ = np.zeros([dat_0.shape[0], (dat_0.shape[1])*deg_0 +1])\n",
    "dat_1_ = np.zeros([dat_1.shape[0], (dat_1.shape[1])*deg_1 +1])\n",
    "dat_2_ = np.zeros([dat_2.shape[0], (dat_2.shape[1])*deg_2 +1])\n",
    "\n",
    "dat_0_ = build_poly(dat_0,deg_0)\n",
    "dat_1_ = build_poly(dat_1,deg_1)\n",
    "dat_2_ = build_poly(dat_2,deg_2)\n",
    "\n",
    "#we don't standardize the first column because its the constant\n",
    "#introduced by the build_poly\n",
    "dat_0_[:,1:] = normalize_data_std(dat_0_[:,1:])\n",
    "dat_1_[:,1:] = normalize_data_std(dat_1_[:,1:])\n",
    "dat_2_[:,1:] = normalize_data_std(dat_2_[:,1:])\n",
    "\n",
    "dat_0_ = nan_to_medi(dat_0_)\n",
    "dat_1_ = nan_to_medi(dat_1_)\n",
    "dat_2_ = nan_to_medi(dat_2_)\n",
    "\n",
    "#remove column with nan\n",
    "dat_0_ = drop_nan_col(dat_0_)\n",
    "dat_1_ = drop_nan_col(dat_1_)\n",
    "dat_2_ = drop_nan_col(dat_2_)"
   ]
  },
  {
   "cell_type": "code",
   "execution_count": 303,
   "metadata": {},
   "outputs": [
    {
     "name": "stdout",
     "output_type": "stream",
     "text": [
      "started\n",
      "finished\n"
     ]
    }
   ],
   "source": [
    "seed = 383692\n",
    "k_fold = 8\n",
    "lambdas = np.logspace(-15,1,100)\n",
    "\n",
    "# split data in k fold\n",
    "k_indices_0 = build_k_indices(pred_0, k_fold, seed)\n",
    "k_indices_1 = build_k_indices(pred_1, k_fold, seed)\n",
    "k_indices_2 = build_k_indices(pred_2, k_fold, seed)\n",
    "\n",
    "rmse_tr_0 = []\n",
    "rmse_te_0 = []\n",
    "rmse_tr_1 = []\n",
    "rmse_te_1 = []\n",
    "rmse_tr_2 = []\n",
    "rmse_te_2 = []\n",
    "\n",
    "ws_0 =[]\n",
    "ws_1 =[]\n",
    "ws_2 =[]\n",
    "\n",
    "print(\"started\")\n",
    "\n",
    "#for lambda_ in lambdas:\n",
    "for lambda_ in lambdas:\n",
    "    rmse_tr_tmp_0 = []\n",
    "    rmse_te_tmp_0 = []\n",
    "    rmse_tr_tmp_1 = []\n",
    "    rmse_te_tmp_1 = []\n",
    "    rmse_tr_tmp_2 = []\n",
    "    rmse_te_tmp_2 = []\n",
    "    for k in range(k_fold):\n",
    "        loss_tr_0, loss_te_0, w_0 = cross_validation_ridge(pred_0, dat_0_, k_indices_0, k, lambda_)\n",
    "        loss_tr_1, loss_te_1, w_1 = cross_validation_ridge(pred_1, dat_1_, k_indices_1, k, lambda_)\n",
    "        loss_tr_2, loss_te_2, w_2 = cross_validation_ridge(pred_2, dat_2_, k_indices_2, k, lambda_)\n",
    "\n",
    "        rmse_tr_tmp_0.append(loss_tr_0)\n",
    "        rmse_te_tmp_0.append(loss_te_0)\n",
    "        rmse_tr_tmp_1.append(loss_tr_1)\n",
    "        rmse_te_tmp_1.append(loss_te_1)\n",
    "        rmse_tr_tmp_2.append(loss_tr_2)\n",
    "        rmse_te_tmp_2.append(loss_te_2)\n",
    "    ws_0.append(w_0)\n",
    "    ws_1.append(w_1)\n",
    "    ws_2.append(w_2)\n",
    "    \n",
    "    #combine the loss over the folds\n",
    "    rmse_tr_0.append(np.mean(rmse_tr_tmp_0))\n",
    "    rmse_te_0.append(np.mean(rmse_te_tmp_0))\n",
    "    rmse_tr_1.append(np.mean(rmse_tr_tmp_1))\n",
    "    rmse_te_1.append(np.mean(rmse_te_tmp_1))\n",
    "    rmse_tr_2.append(np.mean(rmse_tr_tmp_2))\n",
    "    rmse_te_2.append(np.mean(rmse_te_tmp_2))\n",
    "    \n",
    "print(\"finished\")"
   ]
  },
  {
   "cell_type": "code",
   "execution_count": 305,
   "metadata": {},
   "outputs": [
    {
     "data": {
      "image/png": "[encoded data removed]",
      "text/plain": [
       "<Figure size 1008x1008 with 1 Axes>"
      ]
     },
     "metadata": {
      "needs_background": "light"
     },
     "output_type": "display_data"
    }
   ],
   "source": [
    "f = plt.figure(figsize=(14,14)) # change this if needed\n",
    "\n",
    "#degree 1\n",
    "ax1 = f.add_subplot(311)\n",
    "ax1.semilogx(lambdas, rmse_te_0, ls=\"--\" , marker=\"*\",\n",
    "             c=\"cornflowerblue\", label=\"0\")\n",
    "ax1.semilogx(lambdas, rmse_te_1, ls=\"-\" , marker=\"*\",\n",
    "             c=\"orange\", label=\"1\")\n",
    "ax1.semilogx(lambdas, rmse_te_2, ls=\"--\" , marker=\"*\",\n",
    "             c=\"forestgreen\", label=\"2-3\")\n",
    "\n",
    "plt.xlabel(\"lambdas\")\n",
    "plt.ylabel(\"error\")\n",
    "plt.yscale(\"log\")\n",
    "plt.legend()\n",
    "plt.show()"
   ]
  },
  {
   "cell_type": "code",
   "execution_count": 299,
   "metadata": {},
   "outputs": [
    {
     "name": "stdout",
     "output_type": "stream",
     "text": [
      "1.6768329368110065e-06\n"
     ]
    }
   ],
   "source": [
    "idx = rmse_te_0.index(min(rmse_te_0))\n",
    "print(lambdas[idx])"
   ]
  },
  {
   "cell_type": "code",
   "execution_count": 284,
   "metadata": {},
   "outputs": [
    {
     "data": {
      "image/png": "[encoded data removed]",
      "text/plain": [
       "<Figure size 1008x1008 with 1 Axes>"
      ]
     },
     "metadata": {
      "needs_background": "light"
     },
     "output_type": "display_data"
    }
   ],
   "source": [
    "f = plt.figure(figsize=(14,14)) # change this if needed\n",
    "\n",
    "#degree 1\n",
    "ax1 = f.add_subplot(311)\n",
    "ax1.semilogx(lambdas, rmse_te_0, ls=\"--\" , marker=\"*\", label=\"0\")\n",
    "ax1.semilogx(lambdas, rmse_te_1, ls=\"-\" , marker=\"*\", label=\"1\")\n",
    "ax1.semilogx(lambdas, rmse_te_2, ls=\"--\" , marker=\"*\", label=\"2-3\")\n",
    "\n",
    "plt.xlabel(\"gamma\")\n",
    "plt.ylabel(\"error\")\n",
    "plt.yscale(\"log\")\n",
    "plt.legend()\n",
    "plt.show()"
   ]
  },
  {
   "cell_type": "code",
   "execution_count": 268,
   "metadata": {},
   "outputs": [
    {
     "name": "stdout",
     "output_type": "stream",
     "text": [
      "[nan nan nan]\n",
      "[nan nan nan]\n",
      "[56.165  0.224  3.106]\n"
     ]
    },
    {
     "name": "stderr",
     "output_type": "stream",
     "text": [
      "/home/toinou/Documents/master/ma1/ml/ml_proj1/scripts/implementations.py:371: RuntimeWarning: Mean of empty slice\n",
      "  tX = tX - np.nanmean(tX, axis=0)\n",
      "/home/toinou/Documents/master/ma1/ml/ml_proj1/scripts/implementations.py:420: RuntimeWarning: Mean of empty slice\n",
      "  col_median = np.nanmean(x, axis=0)\n"
     ]
    },
    {
     "name": "stdout",
     "output_type": "stream",
     "text": [
      "***\n",
      "[-0.04757625 -0.30376096  0.        ]\n",
      "[-0.08136885 -0.15235829 -0.10186376]\n",
      "[-0.01321943 -0.41000457  3.33633597]\n",
      "started\n"
     ]
    }
   ],
   "source": [
    "#putting jet_num in the last column\n",
    "tX.T[[22,-1]] = tX.T[[-1,22]]\n",
    "tX[tX == -999] = np.nan\n",
    "\n",
    "#split data based on jet_num\n",
    "\"\"\"WARNING tX must be unprocessed data so that the processing can\n",
    "be jet_num specific WARNING\"\"\" \n",
    "#remove the jet_num column -> change the shape of the training set\n",
    "pred_0, pred_1, pred_2, dat_0, dat_1, dat_2, inds_0, inds_1, inds_2 = split_jet_num(y,tX)\n",
    "\n",
    "##prepocessing\n",
    "dat_0 = cols_log_transform(dat_0)\n",
    "dat_1 = cols_log_transform(dat_1)\n",
    "dat_2 = cols_log_transform(dat_2)\n",
    "\n",
    "deg_0 = 3\n",
    "deg_1 = 4\n",
    "deg_2 = 6\n",
    "\n",
    "\"\"\"we don't have the same shape because of jet_num removal\n",
    "instead of (shape-1)*deg + 2 -> shape*deg +1\"\"\"\n",
    "dat_0_ = np.zeros([dat_0.shape[0], (dat_0.shape[1])*deg_0 +1])\n",
    "dat_1_ = np.zeros([dat_1.shape[0], (dat_1.shape[1])*deg_1 +1])\n",
    "dat_2_ = np.zeros([dat_2.shape[0], (dat_2.shape[1])*deg_2 +1])\n",
    "\n",
    "dat_0_ = build_poly(dat_0,deg_0)\n",
    "dat_1_ = build_poly(dat_1,deg_1)\n",
    "dat_2_ = build_poly(dat_2,deg_2)\n",
    "\n",
    "#we don't standardize the first column because its the constant\n",
    "#introduced by the build_poly\n",
    "dat_0_[:,1:] = normalize_data_std(dat_0_[:,1:])\n",
    "dat_1_[:,1:] = normalize_data_std(dat_1_[:,1:])\n",
    "dat_2_[:,1:] = normalize_data_std(dat_2_[:,1:])\n",
    "\n",
    "dat_0_ = nan_to_medi(dat_0_)\n",
    "dat_1_ = nan_to_medi(dat_1_)\n",
    "dat_2_ = nan_to_medi(dat_2_)\n",
    "\n",
    "#remove column with nan\n",
    "dat_0_ = drop_nan_col(dat_0_)\n",
    "dat_1_ = drop_nan_col(dat_1_)\n",
    "dat_2_ = drop_nan_col(dat_2_)\n",
    "\n",
    "print(\"started\")\n",
    "\n",
    "#submission with 10**-4, 4.06*10**-4 & 2.72*10**-7 -> .803\n",
    "#submission with 1.68*10**-6, 4.06*10**-4 & 2.72*10**-7 -> ?\n",
    "\n",
    "\n",
    "mse_0, w_0 = ridge_regression(pred_0, dat_0_, 1.68*10**-6)\n",
    "mse_1, w_1 = ridge_regression(pred_1, dat_1_, 4.06*10**-4)\n",
    "mse_2, w_2 = ridge_regression(pred_2, dat_2_, 2.72*10**-7)"
   ]
  },
  {
   "cell_type": "markdown",
   "metadata": {},
   "source": [
    "## Least_squares_DG\n",
    "\n",
    "## Least_squares_SDG\n",
    "Ne donne que des loss = nan, le calcul du gradient ne se passe pas bien, que ça soit avec les rows contenant du -999 ou pas.\n",
    "\n",
    "## Least_square\n",
    "degree 1 -> -334.4 (mse loss)\n",
    "\n",
    "## Ridge_regression\n",
    "Seems the most suited since we have so many features. Maybe we could remove some features if they are highly correlated (might be visible on plots?\n",
    "degree = 6 -> singular matrix\n",
    "\n",
    "## Logistic_regression\n",
    "Since we have a binary output, it might be the best option...\n",
    "\n",
    "## Reg_logistic_regression\n",
    "\n",
    "# Remarks\n",
    "if degree = 3, 7, ...\n",
    "-> LinAlgError: Singular matrix\n",
    "\n"
   ]
  },
  {
   "cell_type": "markdown",
   "metadata": {},
   "source": [
    "# TODO\n",
    "- plot all the variable with boxplot\n",
    "- compute ,np.cov between the variables\n",
    "- compute Pearson correlation np.cov(x,y)/(std(x) * std(y))"
   ]
  },
  {
   "cell_type": "code",
   "execution_count": 130,
   "metadata": {},
   "outputs": [],
   "source": [
    "#ridge degree 7, lambda = 10**-5\n",
    "weights = np.array([-2.12420734e-01,  1.16707954e+00, -2.02597113e-01, -3.41018773e-01,\n",
    "        2.56824923e-02, -4.54348442e-01, -3.21897544e-01, -2.31903708e-01,\n",
    "        4.32510496e-01, -1.48819486e-02, -9.01831769e-02,  7.66891467e-03,\n",
    "       -1.42167862e-01, -9.69461879e-02,  2.44652837e-01,  9.49255189e-03,\n",
    "        4.08476796e-03,  3.83936896e-01,  6.98400776e-03,  5.64949226e-03,\n",
    "        1.86038783e-01, -6.43892259e-03,  2.96360086e-01, -5.65704332e-01,\n",
    "       -4.34824317e-02, -4.41479764e-03, -1.90244121e-02,  2.21996400e-02,\n",
    "        8.67438189e-04, -2.01798116e-03, -2.44247984e+00, -3.28859729e-01,\n",
    "       -3.35424574e-02, -1.15704860e-01,  5.02151127e-01,  7.87037444e-01,\n",
    "       -9.12315688e-02,  7.18300905e-02,  2.37105547e-01,  1.91215608e-03,\n",
    "        2.42159443e-01, -2.36433007e-02,  3.15667185e-01,  3.61504589e-01,\n",
    "       -1.12255968e-02, -8.40961826e-03, -3.50403103e-02, -5.55229351e-02,\n",
    "        1.90028958e-02, -4.76703114e-01, -1.15650893e-03, -7.04232927e-01,\n",
    "        4.81431733e-01, -1.22265200e-01,  1.95102924e-01,  7.75301832e-03,\n",
    "        6.40327368e-02,  2.66963521e-01, -1.86260588e-02,  1.40283436e+00,\n",
    "        1.17789093e+00,  5.99433456e-01, -7.57438996e-02,  1.71001227e-01,\n",
    "       -6.36827920e-01,  1.16597701e-01, -3.95447289e-01, -2.27512737e-01,\n",
    "       -9.82274612e-03, -3.39027437e-01,  2.10071550e-01,  6.47930487e-02,\n",
    "        1.71891855e-01, -7.15097555e-02, -1.16710685e-02, -2.15331366e-01,\n",
    "       -2.34377038e-02, -2.41963601e-02, -9.29453147e-02,  2.95083446e-03,\n",
    "        3.90347381e-01,  5.64074893e-01,  1.56512022e-01,  3.06499918e-04,\n",
    "        2.55378129e-02, -7.29927579e-02, -1.72607210e-02, -2.41581709e-02,\n",
    "        1.16767296e+00, -1.25954122e+00, -6.48927489e-01,  9.35883737e-02,\n",
    "       -2.59989711e-01, -1.18058514e-01,  9.93680655e-02, -2.06209383e-01,\n",
    "       -2.31787284e-01, -5.59965477e-02,  1.05208282e-01,  1.05079399e-01,\n",
    "       -9.85260151e-02, -1.34187339e-01, -5.17812745e-02,  9.24620619e-03,\n",
    "       -2.09590499e-01, -1.67864559e-02, -4.18423703e-02,  2.84541469e-01,\n",
    "        1.41375357e-02,  2.51100500e-01,  2.08493577e-01,  2.32707626e-02,\n",
    "       -2.61713147e-02, -4.97859235e-03, -8.73171313e-03, -1.25373183e-01,\n",
    "        2.83786478e-02, -1.04553243e+00, -5.97598023e-02, -1.69821364e-01,\n",
    "        1.56129030e-01, -2.94497472e-01,  3.27816931e-01, -9.32331679e-02,\n",
    "        2.34311590e-01,  8.21825489e-02, -7.14323265e-02,  1.52650663e-01,\n",
    "        2.44560032e-01, -1.21730364e-01, -3.44081014e-01,  1.39648103e-01,\n",
    "        8.57709474e-03, -8.95776897e-02,  2.71186939e-02,  5.10524877e-02,\n",
    "        3.18027058e-01,  1.72901021e-02, -2.66100442e-01, -1.63552734e-01,\n",
    "       -1.05308385e-01,  5.56972346e-03, -1.04720088e-02,  4.06576146e-02,\n",
    "        2.66032297e-02,  3.87502090e-02, -9.63486856e-01,  8.10929532e-01,\n",
    "        2.94900236e-01,  7.13048473e-02, -5.43757066e-02,  1.71740488e-01,\n",
    "       -5.32192166e-02,  3.61585389e-01,  2.48992499e-01, -1.49290596e-03,\n",
    "       -3.61615922e-02, -7.16868553e-02, -4.19519991e-02, -2.56553946e-01,\n",
    "        2.93938375e-02, -2.35241795e-04,  5.87049746e-02,  1.74348031e-02,\n",
    "        2.41020704e-02,  5.80991627e-02, -1.41801825e-02, -1.94979323e-01,\n",
    "       -3.01023639e-01, -5.20843848e-02, -2.43597179e-02,  1.42794049e-04,\n",
    "        2.57971914e-02,  2.86411352e-02, -1.03630775e-02,  8.24358264e-01,\n",
    "       -3.26634363e-01,  4.98202260e-02, -9.63961102e-02,  2.49664258e-01,\n",
    "       -2.44598036e-01,  4.01511982e-02, -2.33097951e-01, -9.14237559e-02,\n",
    "        1.93002042e-01, -5.45464040e-02, -2.54247756e-01,  1.01961752e-01,\n",
    "        2.78395110e-01, -7.85805290e-02, -1.00442303e-03,  1.43433876e-01,\n",
    "       -1.13488057e-02, -3.32359540e-02, -2.80988737e-01, -1.51873043e-02,\n",
    "        1.96578767e-01, -9.47127376e-02,  9.05420349e-02, -1.10923624e-03,\n",
    "        1.77468762e-03, -2.11963777e-02, -1.01824692e-02, -1.41531617e-02,\n",
    "       -1.04534368e-01])\n",
    "\n",
    "#log reg degree 2, gamma = 5.623413251903491e-09\n",
    "weights = np.array([-1.36153004,  0.37322225, -0.15563406, -0.05382209,  0.5360908 ,\n",
    "        0.27754093,  0.61056452,  0.64432229,  0.98810215,  0.40142549,\n",
    "        0.34637938,  0.27167639,  1.03143357,  0.70861783,  0.64408915,\n",
    "       -0.05569383,  0.70105822, -0.3882029 ,  0.78864969,  0.25825648,\n",
    "        0.2343555 ,  0.58379483,  0.66117062,  0.73179556,  0.09218025,\n",
    "        0.07603759,  0.71182529,  0.09087417,  0.21741197,  0.12363243,\n",
    "        0.06950899,  0.16568517, -0.08210881,  0.14439444,  0.51566336,\n",
    "        1.01373332,  0.57772679,  0.02068063, -0.26169108,  0.73458988,\n",
    "        0.15534981,  0.48251524,  0.65705471,  0.81676341,  0.04785287,\n",
    "        0.45325908, -0.04183546,  0.11201533,  0.67985073, -0.26434076,\n",
    "        0.33353752,  0.47136571,  0.03663588,  0.22472641,  0.96859441,\n",
    "        0.50190943, -0.0129122 ,  0.9617307 ,  0.51436756, -1.93075834])"
   ]
  },
  {
   "cell_type": "markdown",
   "metadata": {},
   "source": [
    "## Generate predictions and save ouput in csv format for submission:"
   ]
  },
  {
   "cell_type": "code",
   "execution_count": 270,
   "metadata": {},
   "outputs": [],
   "source": [
    "from implementations import *\n",
    "DATA_TEST_PATH = '/home/toinou/course/ml/ml_proj1/data/test.csv'\n",
    "_, tX_test, ids_test = load_csv_data(DATA_TEST_PATH)"
   ]
  },
  {
   "cell_type": "code",
   "execution_count": 259,
   "metadata": {},
   "outputs": [
    {
     "data": {
      "text/plain": [
       "1"
      ]
     },
     "execution_count": 259,
     "metadata": {},
     "output_type": "execute_result"
    }
   ],
   "source": [
    "\"\"\"\n",
    "preprocessing without jet_num split\n",
    "\n",
    "#putting jet_num in the last column\n",
    "tX_test.T[[22,-1]] = tX_test.T[[-1,22]]\n",
    "    \n",
    "#put outlier to nan to facilitate the tratment\n",
    "tX_test[tX_test == -999] = np.nan\n",
    "\n",
    "print(tX_test[1,-3:])\n",
    "\n",
    "tX_test = cols_log_transform(tX_test)\n",
    "print(tX_test[1,-3:])\n",
    "deg = 2\n",
    "\n",
    "tX_test_ = np.zeros([tX_test.shape[0], (tX_test.shape[1]-1)*deg +2])\n",
    "tX_test_[:,:-1] = build_poly(tX_test[:,:-1],deg)\n",
    "tX_test_[:,-1] = tX_test[:,-1]\n",
    "\n",
    "tX_test_[:,1:-1] = normalize_data_std(tX_test_[:,1:-1])\n",
    "print(tX_test_[1,-3:])\n",
    "\n",
    "\n",
    "nan_to_mean(tX_test_)\n",
    "\n",
    "print(tX_test_[1,-3:])\n",
    "\"\"\"\n",
    "\n",
    "#preprocessing with jet_num split is included in the pred fct"
   ]
  },
  {
   "cell_type": "code",
   "execution_count": 271,
   "metadata": {},
   "outputs": [],
   "source": [
    "OUTPUT_PATH = '/home/toinou/course/ml/ml_proj1/sub15.csv'\n",
    "#prediction without jet_num split\n",
    "#y_pred = predict_labels(weights, tX_test_)\n",
    "\n",
    "#prediction with jet_num split\n",
    "y_pred = pred_jet_num([w_0,w_1,w_2], [3,4,6], tX_test)\n",
    "create_csv_submission(ids_test, y_pred, OUTPUT_PATH)"
   ]
  },
  {
   "cell_type": "markdown",
   "metadata": {},
   "source": [
    "## Submissions\n",
    "\n",
    "1. ridge, degree 2, lambdas = 0.75 -> 0.752\n",
    "2. ridge, degree 1, lambdas = 0.75 -> 0.732\n",
    "3. logreg, degree 1, lambda = 0.75 -> 0.662\n",
    "\n",
    "implementation of normalization and hot one\n",
    "\n",
    "4. ridge, degree 1, lambdas 0.69 -> 0.752\n",
    "5. ridge, degree 2, lambdas 0.69 -> 0.732\n",
    "6. logreg, degree 1, gamma ?     -> (random start, 3000 steps)\n",
    "7. logreg, degree 1, gamma 1.5   -> 0.696 (random start, one hot, 8000 steps)\n",
    "8. logreg, degree 1, gamma 1     -> 0.695 (random start, one hot, 8000 steps)\n",
    "9. logreg, degree 2, gamma 1.5   -> 0.765 (random start, one hot, 8000 steps)\n",
    "10. logreg, degree 3, gamma 1.5   -> 0.660 (random start, one hot, 12000 steps)"
   ]
  }
 ],
 "metadata": {
  "anaconda-cloud": {},
  "kernelspec": {
   "display_name": "pyt3.8",
   "language": "python",
   "name": "pyt3.8"
  },
  "language_info": {
   "codemirror_mode": {
    "name": "ipython",
    "version": 3
   },
   "file_extension": ".py",
   "mimetype": "text/x-python",
   "name": "python",
   "nbconvert_exporter": "python",
   "pygments_lexer": "ipython3",
   "version": "3.8.5"
  }
 },
 "nbformat": 4,
 "nbformat_minor": 1
}
