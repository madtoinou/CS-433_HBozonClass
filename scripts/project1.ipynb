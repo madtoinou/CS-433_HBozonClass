{
 "cells": [
  {
   "cell_type": "code",
   "execution_count": 61,
   "metadata": {},
   "outputs": [],
   "source": [
    "# Useful starting lines\n",
    "%matplotlib inline\n",
    "import numpy as np\n",
    "import matplotlib.pyplot as plt\n",
    "%load_ext autoreload\n",
    "%autoreload 2"
   ]
  },
  {
   "cell_type": "markdown",
   "metadata": {},
   "source": [
    "## Load the training data into feature matrix, class labels, and event ids:"
   ]
  },
  {
   "cell_type": "code",
   "execution_count": 86,
   "metadata": {},
   "outputs": [],
   "source": [
    "from proj1_helpers import *\n",
    "DATA_TRAIN_PATH = '/home/toinou/course/ml/ml_proj1/data/train.csv' \n",
    "y, tX, ids = load_csv_data(DATA_TRAIN_PATH)\n",
    "\n",
    "cols = ['DER_mass_MMC', 'DER_mass_transverse_met_lep',\n",
    "       'DER_mass_vis', 'DER_pt_h', 'DER_deltaeta_jet_jet',\n",
    "       'DER_mass_jet_jet', 'DER_prodeta_jet_jet', 'DER_deltar_tau_lep',\n",
    "       'DER_pt_tot', 'DER_sum_pt', 'DER_pt_ratio_lep_tau',\n",
    "       'DER_met_phi_centrality', 'DER_lep_eta_centrality',\n",
    "       'PRI_tau_pt', 'PRI_tau_eta', 'PRI_tau_phi', 'PRI_lep_pt',\n",
    "       'PRI_lep_eta', 'PRI_lep_phi', 'PRI_met', 'PRI_met_phi',\n",
    "       'PRI_met_sumet', 'PRI_jet_num', 'PRI_jet_leading_pt',\n",
    "       'PRI_jet_leading_eta', 'PRI_jet_leading_phi',\n",
    "       'PRI_jet_subleading_pt', 'PRI_jet_subleading_eta',\n",
    "       'PRI_jet_subleading_phi', 'PRI_jet_all_pt']"
   ]
  },
  {
   "cell_type": "code",
   "execution_count": 151,
   "metadata": {},
   "outputs": [],
   "source": [
    "from implementations import *"
   ]
  },
  {
   "cell_type": "code",
   "execution_count": 137,
   "metadata": {},
   "outputs": [],
   "source": [
    "## Preprocessing\n",
    "# replace -999 by np.NaN\n",
    "#tX_nan = tX\n",
    "#tX_nan[tX_nan==-999] = np.nan\n",
    "\n",
    "# remove the rows containing at least 1 NaN\n",
    "idx_with_nan = set([x[0] for x in np.argwhere(tX==-999)])\n",
    "\n",
    "tX_nonan = tX[list(set(range(len(tX)))-idx_with_nan)]\n",
    "y_nonan  = y[list(set(range(len(tX)))-idx_with_nan)]\n",
    "\n",
    "tX_fullnan = tX[list(idx_with_nan)]\n",
    "y_fullnan  = y[list(idx_with_nan)]\n",
    "\n",
    "# len(tX_nonan) -> 68'114\n",
    "# len(tX_fullnan) -> 181'886 over 250'000\n",
    "\n",
    "#Checker jet_num (eventuelle anomalie?)\n"
   ]
  },
  {
   "cell_type": "code",
   "execution_count": 146,
   "metadata": {},
   "outputs": [],
   "source": [
    "#def least_squares_GD(y, tx, initial_w, max_iters, gamma)\n",
    "    \n",
    "#def least_squares_SGD(y, tx, initial_w, max_iters, gamma)\n",
    "    \n",
    "#def least_squares(y,tx)\n",
    "\n",
    "#def ridge_regression(y, tx, lambda_)\n",
    "    \n",
    "#def logistic_regression(y, tx, initial_w, max_iters, gamma):\n",
    "    \n",
    "#def reg_logistic_regression(y, tx, lambda_, initial_w, max_iters, gamma):"
   ]
  },
  {
   "cell_type": "code",
   "execution_count": 138,
   "metadata": {},
   "outputs": [
    {
     "name": "stdout",
     "output_type": "stream",
     "text": [
      "<class 'numpy.ndarray'>\n",
      "<class 'numpy.ndarray'>\n",
      "<class 'numpy.ndarray'>\n",
      "<class 'numpy.ndarray'>\n",
      "<class 'numpy.ndarray'>\n",
      "<class 'numpy.ndarray'>\n",
      "<class 'numpy.ndarray'>\n",
      "<class 'numpy.ndarray'>\n",
      "<class 'numpy.ndarray'>\n",
      "<class 'numpy.ndarray'>\n",
      "<class 'numpy.ndarray'>\n",
      "<class 'numpy.ndarray'>\n",
      "<class 'numpy.ndarray'>\n",
      "<class 'numpy.ndarray'>\n",
      "<class 'numpy.ndarray'>\n",
      "<class 'numpy.ndarray'>\n",
      "<class 'numpy.ndarray'>\n",
      "<class 'numpy.ndarray'>\n",
      "<class 'numpy.ndarray'>\n",
      "<class 'numpy.ndarray'>\n",
      "<class 'numpy.ndarray'>\n",
      "<class 'numpy.ndarray'>\n",
      "<class 'numpy.ndarray'>\n",
      "<class 'numpy.ndarray'>\n",
      "<class 'numpy.ndarray'>\n"
     ]
    },
    {
     "data": {
      "text/plain": [
       "[<matplotlib.lines.Line2D at 0x7f75498918e0>]"
      ]
     },
     "execution_count": 138,
     "metadata": {},
     "output_type": "execute_result"
    },
    {
     "data": {
      "image/png": "[encoded data removed]",
      "text/plain": [
       "<Figure size 432x288 with 1 Axes>"
      ]
     },
     "metadata": {
      "needs_background": "light"
     },
     "output_type": "display_data"
    }
   ],
   "source": [
    "max_iters = 500\n",
    "gammas = [0.01, 0.1, 1, 1.5]\n",
    "lambdas = np.linspace(0,10,25)\n",
    "initial_w = np.zeros(tX.shape[1])\n",
    "\n",
    "losses = []\n",
    "ws = []\n",
    "#for gamma in gammas:\n",
    "for lambda_ in lambdas:\n",
    "\n",
    "    loss, w = ridge_regression(y, tX, lambda_)\n",
    "    losses.append(loss)\n",
    "    ws.append(w)\n",
    "    \n",
    "#plt.plot(gammas, losses)\n",
    "plt.plot(lambdas, losses)"
   ]
  },
  {
   "cell_type": "code",
   "execution_count": null,
   "metadata": {},
   "outputs": [],
   "source": [
    "seed = 1\n",
    "degrees = [4, 5, 6]\n",
    "k_fold = 4\n",
    "lambdas = np.logspace(-4, 0, 30)\n",
    "# split data in k fold\n",
    "k_indices = build_k_indices(y, k_fold, seed)\n",
    "# define lists to store the loss of training data and test data\n",
    "rmse_tr = []\n",
    "rmse_te = []\n",
    "\n",
    "# cross validation\n",
    "for degree in degrees:\n",
    "    for lambda_ in lambdas:\n",
    "        rmse_tr_tmp = []\n",
    "        rmse_te_tmp = []\n",
    "        for k in range(k_fold):\n",
    "            loss_tr_k, loss_te_k = cross_validation(y, tX, k_indices, k, lambda_, degree)\n",
    "\n",
    "            rmse_tr_tmp.append(loss_tr_k)\n",
    "            rmse_te_tmp.append(loss_te_k)\n",
    "\n",
    "        #combine the loss over the folds\n",
    "        rmse_tr.append(np.mean(rmse_tr_tmp))\n",
    "        rmse_te.append(np.mean(rmse_te_tmp))"
   ]
  },
  {
   "cell_type": "code",
   "execution_count": 158,
   "metadata": {},
   "outputs": [
    {
     "name": "stdout",
     "output_type": "stream",
     "text": [
      "2.0\n"
     ]
    }
   ],
   "source": []
  },
  {
   "cell_type": "code",
   "execution_count": 175,
   "metadata": {},
   "outputs": [
    {
     "data": {
      "image/png": "[encoded data removed]",
      "text/plain": [
       "<Figure size 1008x1008 with 1 Axes>"
      ]
     },
     "metadata": {
      "needs_background": "light"
     },
     "output_type": "display_data"
    }
   ],
   "source": [
    "f = plt.figure(figsize=(14,14)) # change this if needed\n",
    "\n",
    "#degree 1\n",
    "ax1 = f.add_subplot(311)\n",
    "ax1.plot(lambdas, rmse_tr[:30], 'magenta', label=\"rmse_tr_deg1\")\n",
    "ax1.plot(lambdas, rmse_te[:30], 'brown', label=\"rmse_te_deg1\")\n",
    "plt.xlabel(\"lambda\")\n",
    "plt.ylabel(\"error\")\n",
    "\n",
    "#degree 2\n",
    "#ax2 = f.add_subplot(312)\n",
    "ax1.plot(lambdas, rmse_tr[30:60], 'yellowgreen', label=\"rmse_tr_deg2\")\n",
    "ax1.plot(lambdas, rmse_te[30:60], 'dodgerblue', label=\"rmse_te_deg2\")\n",
    "plt.xlabel(\"lambda\")\n",
    "plt.ylabel(\"error\")\n",
    "\n",
    "#degree 8\n",
    "#ax3 = f.add_subplot(313)\n",
    "#ax1.plot(lambdas, rmse_tr[60:], 'lightskyblue')\n",
    "#ax1.plot(lambdas, rmse_te[60:], 'dodgerblue')\n",
    "plt.xlabel(\"lambda\")\n",
    "plt.ylabel(\"error\")\n",
    "plt.legend()\n",
    "plt.show()"
   ]
  },
  {
   "cell_type": "markdown",
   "metadata": {},
   "source": [
    "## Least_squares_DG\n",
    "\n",
    "## Least_squares_SDG\n",
    "Ne donne que des loss = nan, le calcul du gradient ne se passe pas bien, que ça soit avec les rows contenant du -999 ou pas.\n",
    "\n",
    "## Least_square\n",
    "degree 1 -> -334.4 (mse loss)\n",
    "\n",
    "## Ridge_regression\n",
    "Seems the most suited since we have so many features. Maybe we could remove some features if they are highly correlated (might be visible on plots?\n",
    "degree = 6 -> singular matrix\n",
    "\n",
    "## Logistic_regression\n",
    "Since we have a binary output, it might be the best option...\n",
    "\n",
    "## Reg_logistic_regression\n",
    "\n",
    "# Remarks\n",
    "if degree = 3, 7, ...\n",
    "-> LinAlgError: Singular matrix\n",
    "\n"
   ]
  },
  {
   "cell_type": "markdown",
   "metadata": {},
   "source": [
    "# TODO\n",
    "- plot all the variable with boxplot\n",
    "- compute ,np.cov between the variables\n",
    "- compute Pearson correlation np.cov(x,y)/(std(x) * std(y))"
   ]
  },
  {
   "cell_type": "code",
   "execution_count": null,
   "metadata": {},
   "outputs": [],
   "source": [
    "def predict_labels(w, x):\n",
    "    return 1"
   ]
  },
  {
   "cell_type": "markdown",
   "metadata": {},
   "source": [
    "## Generate predictions and save ouput in csv format for submission:"
   ]
  },
  {
   "cell_type": "code",
   "execution_count": 10,
   "metadata": {},
   "outputs": [],
   "source": [
    "DATA_TEST_PATH = '/home/toinou/course/ml/ml_proj1/data/test.csv'\n",
    "_, tX_test, ids_test = load_csv_data(DATA_TEST_PATH)"
   ]
  },
  {
   "cell_type": "code",
   "execution_count": 31,
   "metadata": {},
   "outputs": [],
   "source": [
    "OUTPUT_PATH = '/home/toinou/course/ml/ml_proj1/'\n",
    "y_pred = predict_labels(weights, tX_test)\n",
    "create_csv_submission(ids_test, y_pred, OUTPUT_PATH)"
   ]
  },
  {
   "cell_type": "code",
   "execution_count": null,
   "metadata": {
    "collapsed": true
   },
   "outputs": [],
   "source": []
  }
 ],
 "metadata": {
  "anaconda-cloud": {},
  "kernelspec": {
   "display_name": "pyt3.8",
   "language": "python",
   "name": "pyt3.8"
  },
  "language_info": {
   "codemirror_mode": {
    "name": "ipython",
    "version": 3
   },
   "file_extension": ".py",
   "mimetype": "text/x-python",
   "name": "python",
   "nbconvert_exporter": "python",
   "pygments_lexer": "ipython3",
   "version": "3.8.5"
  }
 },
 "nbformat": 4,
 "nbformat_minor": 1
}
