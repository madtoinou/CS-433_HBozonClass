{
 "cells": [
  {
   "cell_type": "code",
   "execution_count": 144,
   "metadata": {},
   "outputs": [
    {
     "name": "stdout",
     "output_type": "stream",
     "text": [
      "The autoreload extension is already loaded. To reload it, use:\n",
      "  %reload_ext autoreload\n"
     ]
    }
   ],
   "source": [
    "# Useful starting lines\n",
    "%matplotlib inline\n",
    "import numpy as np\n",
    "import matplotlib.pyplot as plt\n",
    "%load_ext autoreload\n",
    "%autoreload 2"
   ]
  },
  {
   "cell_type": "markdown",
   "metadata": {},
   "source": [
    "## Load the training data into feature matrix, class labels, and event ids:"
   ]
  },
  {
   "cell_type": "code",
   "execution_count": 145,
   "metadata": {},
   "outputs": [],
   "source": [
    "from proj1_helpers import *\n",
    "DATA_TRAIN_PATH = '/home/toinou/course/ml/ml_proj1/data/train.csv' \n",
    "y, tX, ids = load_csv_data(DATA_TRAIN_PATH)\n",
    "\n",
    "cols = ['DER_mass_MMC', 'DER_mass_transverse_met_lep',\n",
    "       'DER_mass_vis', 'DER_pt_h', 'DER_deltaeta_jet_jet',\n",
    "       'DER_mass_jet_jet', 'DER_prodeta_jet_jet', 'DER_deltar_tau_lep',\n",
    "       'DER_pt_tot', 'DER_sum_pt', 'DER_pt_ratio_lep_tau',\n",
    "       'DER_met_phi_centrality', 'DER_lep_eta_centrality',\n",
    "       'PRI_tau_pt', 'PRI_tau_eta', 'PRI_tau_phi', 'PRI_lep_pt',\n",
    "       'PRI_lep_eta', 'PRI_lep_phi', 'PRI_met', 'PRI_met_phi',\n",
    "       'PRI_met_sumet', 'PRI_jet_num', 'PRI_jet_leading_pt',\n",
    "       'PRI_jet_leading_eta', 'PRI_jet_leading_phi',\n",
    "       'PRI_jet_subleading_pt', 'PRI_jet_subleading_eta',\n",
    "       'PRI_jet_subleading_phi', 'PRI_jet_all_pt']\n"
   ]
  },
  {
   "cell_type": "code",
   "execution_count": 130,
   "metadata": {},
   "outputs": [],
   "source": [
    "from implementations import *"
   ]
  },
  {
   "cell_type": "code",
   "execution_count": 146,
   "metadata": {},
   "outputs": [
    {
     "data": {
      "text/plain": [
       "1"
      ]
     },
     "execution_count": 146,
     "metadata": {},
     "output_type": "execute_result"
    }
   ],
   "source": [
    "## Preprocessing\n",
    "\n",
    "def one_hot_jet_num(tX):\n",
    "    #move jet_num to the last position\n",
    "    tX.T[[22, -1]] = tX.T[[-1, 22]]\n",
    "    \n",
    "    #extract the jet_num column\n",
    "    one_hot = tX[:,-1].astype(int)\n",
    "    jet_num = np.zeros((tX.shape[0], 4))\n",
    "    \n",
    "    #create one column for each possible valur of jet_num\n",
    "    jet_num[np.where(one_hot == 0),0] = 1\n",
    "    jet_num[np.where(one_hot == 1),1] = 1\n",
    "    jet_num[np.where(one_hot == 2),2] = 1\n",
    "    jet_num[np.where(one_hot == 3),3] = 1\n",
    "\n",
    "    #create empty array to contain the  new values \n",
    "    tX_hot = np.empty((tX.shape[0], 30+3))\n",
    "    \n",
    "    #fill the new array without jet_num\n",
    "    tX_hot[:,:-4] = tX[:,:-1]\n",
    "\n",
    "    #add the 4 news columns\n",
    "    tX_hot[:,[-4,-3,-2,-1]] = jet_num\n",
    "    return tX_hot\n",
    "\n",
    "\n",
    "\"\"\"\n",
    "# remove the rows containing at least 1 NaN\n",
    "idx_with_nan = set([x[0] for x in np.argwhere(tX==-999)])\n",
    "\n",
    "tX_nonan = tX[list(set(range(len(tX)))-idx_with_nan)]\n",
    "y_nonan  = y[list(set(range(len(tX)))-idx_with_nan)]\n",
    "\n",
    "tX_fullnan = tX[list(idx_with_nan)]\n",
    "y_fullnan  = y[list(idx_with_nan)]\n",
    "\n",
    "# len(tX_nonan) -> 68'114\n",
    "# len(tX_fullnan) -> 181'886 over 250'000\n",
    "\"\"\"\n",
    "1"
   ]
  },
  {
   "cell_type": "code",
   "execution_count": 147,
   "metadata": {},
   "outputs": [],
   "source": [
    "tX_hot = one_hot_jet_num(tX).copy()"
   ]
  },
  {
   "cell_type": "code",
   "execution_count": 122,
   "metadata": {},
   "outputs": [],
   "source": [
    "#def least_squares_GD(y, tx, initial_w, max_iters, gamma)\n",
    "    \n",
    "#def least_squares_SGD(y, tx, initial_w, max_iters, gamma)\n",
    "    \n",
    "#def least_squares(y,tx)\n",
    "\n",
    "#def ridge_regression(y, tx, lambda_)\n",
    "    \n",
    "#def logistic_regression(y, tx, initial_w, max_iters, gamma):\n",
    "    \n",
    "#def reg_logistic_regression(y, tx, lambda_, initial_w, max_iters, gamma):"
   ]
  },
  {
   "cell_type": "code",
   "execution_count": 149,
   "metadata": {},
   "outputs": [
    {
     "name": "stdout",
     "output_type": "stream",
     "text": [
      "33\n"
     ]
    }
   ],
   "source": [
    "print(tX_hot.shape[1])"
   ]
  },
  {
   "cell_type": "code",
   "execution_count": 150,
   "metadata": {},
   "outputs": [],
   "source": [
    "seed = 263\n",
    "degrees = [1,2]\n",
    "k_fold = 4\n",
    "lambdas = np.linspace(0, 1, 20)\n",
    "\n",
    "# split data in k fold\n",
    "k_indices = build_k_indices(y, k_fold, seed)\n",
    "# define lists to store the loss of training data and test data\n",
    "rmse_tr = []\n",
    "rmse_te = []\n",
    "ws = []\n",
    "\n",
    "# cross validation\n",
    "for degree in degrees:\n",
    "    for lambda_ in lambdas:\n",
    "        rmse_tr_tmp = []\n",
    "        rmse_te_tmp = []\n",
    "        for k in range(k_fold):\n",
    "            loss_tr_k, loss_te_k, w = cross_validation(y, tX_hot, k_indices, k, lambda_, degree)\n",
    "\n",
    "            rmse_tr_tmp.append(loss_tr_k)\n",
    "            rmse_te_tmp.append(loss_te_k)\n",
    "        ws.append(w)\n",
    "        #combine the loss over the folds\n",
    "        rmse_tr.append(np.mean(rmse_tr_tmp))\n",
    "        rmse_te.append(np.mean(rmse_te_tmp))"
   ]
  },
  {
   "cell_type": "code",
   "execution_count": 151,
   "metadata": {},
   "outputs": [
    {
     "data": {
      "image/png": "[encoded data removed]",
      "text/plain": [
       "<Figure size 1008x1008 with 1 Axes>"
      ]
     },
     "metadata": {
      "needs_background": "light"
     },
     "output_type": "display_data"
    }
   ],
   "source": [
    "f = plt.figure(figsize=(14,14)) # change this if needed\n",
    "\n",
    "#degree 1\n",
    "ax1 = f.add_subplot(311)\n",
    "#ax1.plot(lambdas, rmse_tr[:30], 'magenta', label=\"rmse_tr_deg1\")\n",
    "ax1.plot(lambdas, rmse_te[:20], 'brown', label=\"rmse_te_deg1\")\n",
    "\n",
    "#ax2 = f.add_subplot(312)\n",
    "#ax1.plot(lambdas, rmse_tr[30:60], 'yellowgreen', label=\"rmse_tr_deg2\")\n",
    "ax1.plot(lambdas, rmse_te[20:], 'dodgerblue', label=\"rmse_te_deg2\")\n",
    "\n",
    "#ax3 = f.add_subplot(313)\n",
    "#ax1.plot(lambdas, rmse_tr[60:90], 'lightskyblue', label=\"rmse_tr_deg3\")\n",
    "#ax1.plot(lambdas, rmse_te[60:90], 'k', label=\"rmse_te_deg3\")\n",
    "\n",
    "\n",
    "plt.xlabel(\"lambda\")\n",
    "plt.ylabel(\"error\")\n",
    "plt.yscale(\"log\")\n",
    "plt.legend()\n",
    "plt.show()"
   ]
  },
  {
   "cell_type": "code",
   "execution_count": 163,
   "metadata": {},
   "outputs": [],
   "source": [
    "_,weights = ridge_regression(y, build_poly(tX_hot,2), 0.69)"
   ]
  },
  {
   "cell_type": "code",
   "execution_count": 164,
   "metadata": {},
   "outputs": [
    {
     "name": "stdout",
     "output_type": "stream",
     "text": [
      "33\n",
      "67\n"
     ]
    }
   ],
   "source": [
    "print(tX_hot.shape[1])\n",
    "print(len(weights))"
   ]
  },
  {
   "cell_type": "markdown",
   "metadata": {},
   "source": [
    "## Least_squares_DG\n",
    "\n",
    "## Least_squares_SDG\n",
    "Ne donne que des loss = nan, le calcul du gradient ne se passe pas bien, que ça soit avec les rows contenant du -999 ou pas.\n",
    "\n",
    "## Least_square\n",
    "degree 1 -> -334.4 (mse loss)\n",
    "\n",
    "## Ridge_regression\n",
    "Seems the most suited since we have so many features. Maybe we could remove some features if they are highly correlated (might be visible on plots?\n",
    "degree = 6 -> singular matrix\n",
    "\n",
    "## Logistic_regression\n",
    "Since we have a binary output, it might be the best option...\n",
    "\n",
    "## Reg_logistic_regression\n",
    "\n",
    "# Remarks\n",
    "if degree = 3, 7, ...\n",
    "-> LinAlgError: Singular matrix\n",
    "\n"
   ]
  },
  {
   "cell_type": "markdown",
   "metadata": {},
   "source": [
    "# TODO\n",
    "- plot all the variable with boxplot\n",
    "- compute ,np.cov between the variables\n",
    "- compute Pearson correlation np.cov(x,y)/(std(x) * std(y))"
   ]
  },
  {
   "cell_type": "code",
   "execution_count": null,
   "metadata": {},
   "outputs": [],
   "source": [
    "def predict_labels(w, x):\n",
    "    return 1"
   ]
  },
  {
   "cell_type": "markdown",
   "metadata": {},
   "source": [
    "## Generate predictions and save ouput in csv format for submission:"
   ]
  },
  {
   "cell_type": "code",
   "execution_count": 165,
   "metadata": {},
   "outputs": [],
   "source": [
    "DATA_TEST_PATH = '/home/toinou/course/ml/ml_proj1/data/test.csv'\n",
    "_, tX_test, ids_test = load_csv_data(DATA_TEST_PATH)"
   ]
  },
  {
   "cell_type": "code",
   "execution_count": 166,
   "metadata": {},
   "outputs": [],
   "source": [
    "OUTPUT_PATH = '/home/toinou/course/ml/ml_proj1/sub4.csv'\n",
    "tX_test_hot = one_hot_jet_num(tX_test)\n",
    "tX_test_hot = build_poly(tX_test_hot,2)\n",
    "y_pred = predict_labels(weights, tX_test_hot)\n",
    "create_csv_submission(ids_test, y_pred, OUTPUT_PATH)"
   ]
  },
  {
   "cell_type": "code",
   "execution_count": 121,
   "metadata": {},
   "outputs": [
    {
     "data": {
      "text/plain": [
       "array([-7.53225415e-03,  2.53940620e-04, -9.08223071e-03, -2.12791035e-03,\n",
       "       -2.21631010e-03, -1.27817484e-03,  5.50923985e-04, -9.85283433e-03,\n",
       "        1.88673236e-02,  5.48501086e-05,  3.06728169e-03, -2.00786362e-02,\n",
       "        3.78874608e-02,  8.31814806e-03,  6.25395724e-03, -6.13018578e-04,\n",
       "       -1.08780006e-03,  2.37444582e-03, -9.39576560e-04,  1.05833265e-03,\n",
       "        4.94737608e-03,  7.16301000e-04, -7.86342456e-04, -5.56063433e-03,\n",
       "        1.63376716e-03, -8.09613631e-04, -6.88979545e-04,  9.23605741e-05,\n",
       "        1.87868848e-03,  4.48825670e-04,  2.79801857e-06, -5.35682988e-06,\n",
       "       -2.15119070e-03, -5.37850464e-03])"
      ]
     },
     "execution_count": 121,
     "metadata": {},
     "output_type": "execute_result"
    }
   ],
   "source": [
    "weights"
   ]
  },
  {
   "cell_type": "code",
   "execution_count": null,
   "metadata": {},
   "outputs": [],
   "source": []
  },
  {
   "cell_type": "code",
   "execution_count": null,
   "metadata": {},
   "outputs": [],
   "source": []
  },
  {
   "cell_type": "code",
   "execution_count": 160,
   "metadata": {},
   "outputs": [
    {
     "name": "stdout",
     "output_type": "stream",
     "text": [
      "30\n",
      "33\n",
      "30\n",
      "33\n",
      "***\n",
      "33\n"
     ]
    }
   ],
   "source": [
    "print(tX.shape[1])\n",
    "print(tX_hot.shape[1])\n",
    "print(tX_test.shape[1])\n",
    "print(tX_test_hot.shape[1])\n",
    "print(\"***\")\n",
    "print(len(weights))"
   ]
  },
  {
   "cell_type": "code",
   "execution_count": 107,
   "metadata": {},
   "outputs": [
    {
     "name": "stdout",
     "output_type": "stream",
     "text": [
      "[[-999.    1.    0.    0.    0.]\n",
      " [-999.    0.    1.    0.    0.]\n",
      " [-999.    1.    0.    0.    0.]\n",
      " ...\n",
      " [-999.    1.    0.    0.    0.]\n",
      " [-999.    0.    1.    0.    0.]\n",
      " [-999.    1.    0.    0.    0.]]\n"
     ]
    }
   ],
   "source": [
    "print(tX_test_hot[:,-5:])"
   ]
  },
  {
   "cell_type": "markdown",
   "metadata": {},
   "source": [
    "## Submissions\n",
    "\n",
    "1. ridge, degree 2, lambdas = 0.75\n",
    "2. ridge, degree 1, lambdas = 0.75\n",
    "3. logistic, degree 1, lambda = 0.75\n",
    "4. ridge, degree 1, lambdas = 0.69\n",
    "5. ridge, degree 2, lambdas = 0.69"
   ]
  }
 ],
 "metadata": {
  "anaconda-cloud": {},
  "kernelspec": {
   "display_name": "pyt3.8",
   "language": "python",
   "name": "pyt3.8"
  },
  "language_info": {
   "codemirror_mode": {
    "name": "ipython",
    "version": 3
   },
   "file_extension": ".py",
   "mimetype": "text/x-python",
   "name": "python",
   "nbconvert_exporter": "python",
   "pygments_lexer": "ipython3",
   "version": "3.8.5"
  }
 },
 "nbformat": 4,
 "nbformat_minor": 1
}
